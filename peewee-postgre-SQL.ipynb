{
 "cells": [
  {
   "cell_type": "code",
   "execution_count": 3,
   "metadata": {},
   "outputs": [
    {
     "name": "stdout",
     "output_type": "stream",
     "text": [
      "Requirement already satisfied: peewee in c:\\users\\big data\\anaconda3\\lib\\site-packages (3.13.3)\n",
      "Requirement already satisfied: psycopg2 in c:\\users\\big data\\anaconda3\\lib\\site-packages (2.8.6)\n"
     ]
    }
   ],
   "source": [
    "!pip install peewee\n",
    "!pip install psycopg2"
   ]
  },
  {
   "cell_type": "code",
   "execution_count": null,
   "metadata": {},
   "outputs": [],
   "source": []
  },
  {
   "cell_type": "code",
   "execution_count": 18,
   "metadata": {},
   "outputs": [
    {
     "data": {
      "text/plain": [
       "True"
      ]
     },
     "execution_count": 18,
     "metadata": {},
     "output_type": "execute_result"
    }
   ],
   "source": [
    "import peewee\n",
    "\n",
    "db = peewee.PostgresqlDatabase('d9rqnd8klhcm7c', #Database\n",
    "                               user = 'ndztebvubvonuk', #User\n",
    "                               password = '98e1a0c3ebb3aecce5d2b6b8f7704d50f4c0f727d00187af6cf1c249e0a6a3db',  #Passwd\n",
    "                               host = 'ec2-54-160-120-28.compute-1.amazonaws.com', #Host\n",
    "                               port = 5432\n",
    "                                )\n",
    "db.connect()"
   ]
  },
  {
   "cell_type": "code",
   "execution_count": 20,
   "metadata": {},
   "outputs": [],
   "source": [
    "#定義table\n",
    "class Person(peewee.Model):\n",
    "    #定義欄位\n",
    "    name = peewee.CharField() #文字欄位\n",
    "    birthday = peewee.DateField() #日期欄位\n",
    "    \n",
    "    #指定使用的資料庫\n",
    "    class Meta:\n",
    "        database = db\n",
    "\n",
    "#同上        \n",
    "class Pet(peewee.Model):\n",
    "    owner = peewee.ForeignKeyField(Person, backref='pets')\n",
    "    name = peewee.CharField()\n",
    "    animal_type = peewee.CharField()\n",
    "    \n",
    "    class Meta:\n",
    "        database = db\n",
    "    \n",
    "    "
   ]
  },
  {
   "cell_type": "code",
   "execution_count": 21,
   "metadata": {},
   "outputs": [],
   "source": [
    "db.create_tables([Person,Pet])"
   ]
  },
  {
   "cell_type": "code",
   "execution_count": 22,
   "metadata": {},
   "outputs": [
    {
     "data": {
      "text/plain": [
       "1"
      ]
     },
     "execution_count": 22,
     "metadata": {},
     "output_type": "execute_result"
    }
   ],
   "source": [
    "#第一種插入資料的方式\n",
    "\n",
    "from datetime import date\n",
    "\n",
    "#insert 資料\n",
    "uncle_bob = Person(name = 'Bob' ,  birthday=date(1960,1,15))\n",
    "\n",
    "#隨後呼叫save()函數\n",
    "uncle_bob.save()\n"
   ]
  },
  {
   "cell_type": "code",
   "execution_count": 37,
   "metadata": {},
   "outputs": [],
   "source": [
    "#第二種插入資料的方式\n",
    "\n",
    "from datetime import date\n",
    "\n",
    "grandma = Person.create(name = 'Grandma' ,  birthday=date(1930,1,15))\n",
    "\n"
   ]
  },
  {
   "cell_type": "code",
   "execution_count": 24,
   "metadata": {},
   "outputs": [
    {
     "name": "stdout",
     "output_type": "stream",
     "text": [
      "Grandma 1930-01-15\n"
     ]
    }
   ],
   "source": [
    "#select 1\n",
    "\n",
    "grandma = Person.select().where(Person.name == 'Grandma').get()\n",
    "\n",
    "print(grandma.name, grandma.birthday)\n"
   ]
  },
  {
   "cell_type": "code",
   "execution_count": 38,
   "metadata": {},
   "outputs": [
    {
     "name": "stdout",
     "output_type": "stream",
     "text": [
      "Grandma 1930-01-15\n"
     ]
    }
   ],
   "source": [
    "#select 2\n",
    "\n",
    "grandma = Person.get(Person.name == \"Grandma\")\n",
    "\n",
    "print(grandma.name, grandma.birthday)"
   ]
  },
  {
   "cell_type": "code",
   "execution_count": 31,
   "metadata": {},
   "outputs": [
    {
     "name": "stdout",
     "output_type": "stream",
     "text": [
      "<class 'peewee.ModelSelect'>\n",
      "2 Bob 1960-01-15\n",
      "3 Grandma 1930-01-15\n"
     ]
    }
   ],
   "source": [
    "#select list (not real list)\n",
    "\n",
    "print(type(Person.select()))\n",
    "\n",
    "for person in Person.select():\n",
    "    print(person.id,person.name,person.birthday)\n",
    "\n",
    "    \n",
    "query = Pet.select().where(Pet.animal_type == \"cat\")\n",
    "for pet in query:\n",
    "    print(pet.name,pet.owner.name)"
   ]
  },
  {
   "cell_type": "code",
   "execution_count": 39,
   "metadata": {},
   "outputs": [
    {
     "data": {
      "text/plain": [
       "1"
      ]
     },
     "execution_count": 39,
     "metadata": {},
     "output_type": "execute_result"
    }
   ],
   "source": [
    "#update\n",
    "\n",
    "from datetime import date\n",
    "\n",
    "grandmaupdate = Person.select().where(Person.name == \"Grandma\").get()\n",
    "\n",
    "\n",
    "grandmaupdate.name = \"SuperGrandma\"\n",
    "\n",
    "\n",
    "grandmaupdate.save()\n",
    "\n"
   ]
  },
  {
   "cell_type": "code",
   "execution_count": 40,
   "metadata": {},
   "outputs": [
    {
     "data": {
      "text/plain": [
       "1"
      ]
     },
     "execution_count": 40,
     "metadata": {},
     "output_type": "execute_result"
    }
   ],
   "source": [
    "#delete\n",
    "\n",
    "person = Person.get(Person.name == \"SuperGrandma\")\n",
    "person.delete_instance()\n",
    "\n",
    "\n"
   ]
  },
  {
   "cell_type": "code",
   "execution_count": 41,
   "metadata": {},
   "outputs": [],
   "source": [
    "#關閉連線\n",
    "\n",
    "if db:\n",
    "    db.close()"
   ]
  },
  {
   "cell_type": "code",
   "execution_count": null,
   "metadata": {},
   "outputs": [],
   "source": []
  },
  {
   "cell_type": "code",
   "execution_count": null,
   "metadata": {},
   "outputs": [],
   "source": []
  }
 ],
 "metadata": {
  "kernelspec": {
   "display_name": "Python 3",
   "language": "python",
   "name": "python3"
  },
  "language_info": {
   "codemirror_mode": {
    "name": "ipython",
    "version": 3
   },
   "file_extension": ".py",
   "mimetype": "text/x-python",
   "name": "python",
   "nbconvert_exporter": "python",
   "pygments_lexer": "ipython3",
   "version": "3.8.3"
  }
 },
 "nbformat": 4,
 "nbformat_minor": 4
}
